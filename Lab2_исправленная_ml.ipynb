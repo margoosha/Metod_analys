{
 "cells": [
  {
   "cell_type": "markdown",
   "metadata": {},
   "source": [
    "## Задание 1"
   ]
  },
  {
   "cell_type": "code",
   "execution_count": 189,
   "metadata": {},
   "outputs": [],
   "source": [
    "import pandas as pd\n",
    "import numpy as np\n",
    "import matplotlib.pyplot as plt\n",
    "from sklearn.cluster import KMeans\n",
    "from sklearn import datasets\n",
    "from sklearn.metrics import accuracy_score\n",
    "from sklearn.datasets import make_blobs"
   ]
  },
  {
   "cell_type": "markdown",
   "metadata": {},
   "source": [
    "Исходные данные:"
   ]
  },
  {
   "cell_type": "markdown",
   "metadata": {},
   "source": [
    "Реалзуем кластеризацию с помощью k-means:"
   ]
  },
  {
   "cell_type": "code",
   "execution_count": 199,
   "metadata": {},
   "outputs": [
    {
     "data": {
      "text/plain": [
       "<matplotlib.collections.PathCollection at 0x22185fd7910>"
      ]
     },
     "execution_count": 199,
     "metadata": {},
     "output_type": "execute_result"
    },
    {
     "data": {
      "image/png": "[encoded data removed]",
      "text/plain": [
       "<Figure size 432x288 with 1 Axes>"
      ]
     },
     "metadata": {
      "needs_background": "light"
     },
     "output_type": "display_data"
    }
   ],
   "source": [
    "X, Y = make_blobs(n_samples = 1000, n_features=2, centers=5, cluster_std = 1.2, random_state=17)\n",
    "plt.scatter(X[:,0], X[:,1])"
   ]
  },
  {
   "cell_type": "code",
   "execution_count": 200,
   "metadata": {},
   "outputs": [],
   "source": [
    "def distEclud(vecA, vecB):\n",
    "    return np.sqrt(np.sum(np.power(vecA - vecB, 2)))"
   ]
  },
  {
   "cell_type": "code",
   "execution_count": 201,
   "metadata": {},
   "outputs": [],
   "source": [
    "def randCent(dataSet, k):\n",
    "    n = np.shape(dataSet)[1]\n",
    "    centroids = np.mat(np.zeros((k, n)))  \n",
    "    for j in range(n):\n",
    "        minJ = min(dataSet[:, j])\n",
    "        rangeJ = float(max(dataSet[:, j]) - minJ)\n",
    "        centroids[:, j] = np.mat(minJ + rangeJ * np.random.rand(k, 1))\n",
    "    return centroids"
   ]
  },
  {
   "cell_type": "code",
   "execution_count": 202,
   "metadata": {},
   "outputs": [],
   "source": [
    "def kMeans1(dataSet, k):\n",
    "    m = np.shape(dataSet)[0]\n",
    "    clusterAssment = np.mat(np.zeros((m, 2)))  \n",
    "    centroids = randCent(dataSet, k)  \n",
    "    clusterChanged = True\n",
    "    while clusterChanged:\n",
    "        clusterChanged = False\n",
    "        for i in range(m):  \n",
    "            minDist = np.inf\n",
    "            minIndex = -1\n",
    "            for j in range(k):\n",
    "                distJI = distEclud(centroids[j, :], dataSet[i, :])\n",
    "                if distJI < minDist:  \n",
    "                    minDist = distJI  \n",
    "                    minIndex = j\n",
    "            if clusterAssment[i, 0] != minIndex:\n",
    "                clusterChanged = True\n",
    "            clusterAssment[i, :] = int(minIndex), minDist ** 2\n",
    "        for cent in range(k):  \n",
    "            ptsInClust = dataSet[np.nonzero(clusterAssment[:, 0].A == cent)[0]]  \n",
    "            centroids[cent, :] = np.mean(ptsInClust, axis=0)  \n",
    "    return centroids "
   ]
  },
  {
   "cell_type": "code",
   "execution_count": 203,
   "metadata": {},
   "outputs": [],
   "source": [
    "def kMeans2(dataSet, k):\n",
    "    m = np.shape(dataSet)[0]\n",
    "    clusterAssment = np.mat(np.zeros((m, 2)))  \n",
    "    centroids = randCent(dataSet, k)  \n",
    "    clusterChanged = True\n",
    "    while clusterChanged:\n",
    "        clusterChanged = False\n",
    "        for i in range(m):  \n",
    "            minDist = np.inf\n",
    "            minIndex = -1\n",
    "            for j in range(k):\n",
    "                distJI = distEclud(centroids[j, :], dataSet[i, :])\n",
    "                if distJI < minDist:  \n",
    "                    minDist = distJI  \n",
    "                    minIndex = j\n",
    "            if clusterAssment[i, 0] != minIndex:\n",
    "                clusterChanged = True\n",
    "            clusterAssment[i, :] = int(minIndex), minDist ** 2\n",
    "        for cent in range(k):  \n",
    "            ptsInClust = dataSet[np.nonzero(clusterAssment[:, 0].A == cent)[0]]  \n",
    "            centroids[cent, :] = np.mean(ptsInClust, axis=0) \n",
    "    return clusterAssment"
   ]
  },
  {
   "cell_type": "code",
   "execution_count": 204,
   "metadata": {},
   "outputs": [
    {
     "data": {
      "text/plain": [
       "matrix([[-3.13029357, -0.43230588],\n",
       "        [-3.58611863, -3.90527602],\n",
       "        [ 7.38573971, -4.65740082],\n",
       "        [-7.38285425, -8.36467684],\n",
       "        [ 3.40019694,  1.4958151 ]])"
      ]
     },
     "execution_count": 204,
     "metadata": {},
     "output_type": "execute_result"
    }
   ],
   "source": [
    "randCent(X, 5)\n"
   ]
  },
  {
   "cell_type": "code",
   "execution_count": 205,
   "metadata": {},
   "outputs": [
    {
     "data": {
      "text/plain": [
       "136.3617017314476"
      ]
     },
     "execution_count": 205,
     "metadata": {},
     "output_type": "execute_result"
    }
   ],
   "source": [
    "distEclud(X[:, 0], X[:, 1])"
   ]
  },
  {
   "cell_type": "code",
   "execution_count": 209,
   "metadata": {},
   "outputs": [
    {
     "name": "stdout",
     "output_type": "stream",
     "text": [
      "[[-9.16414312 -2.69887055]\n",
      " [-6.06872179 -8.67111722]\n",
      " [-4.03339497  0.52576867]\n",
      " [ 2.69900599  1.4803753 ]\n",
      " [ 5.72526812  3.10104357]]\n"
     ]
    }
   ],
   "source": [
    "centroids = kMeans1(X, 5)\n",
    "print (centroids)"
   ]
  },
  {
   "cell_type": "markdown",
   "metadata": {},
   "source": [
    " Вычислили координаты центров кластеров (визуально похоже на правду)."
   ]
  },
  {
   "cell_type": "code",
   "execution_count": 210,
   "metadata": {
    "scrolled": true
   },
   "outputs": [
    {
     "name": "stdout",
     "output_type": "stream",
     "text": [
      "[[1.         7.94140345]\n",
      " [0.         1.37352121]\n",
      " [0.         0.29588895]\n",
      " ...\n",
      " [1.         3.82880984]\n",
      " [0.         0.01553819]\n",
      " [0.         3.45077176]]\n"
     ]
    }
   ],
   "source": [
    "clusterAssment = kMeans2(X, 5)\n",
    "print (clusterAssment)"
   ]
  },
  {
   "cell_type": "markdown",
   "metadata": {},
   "source": [
    "Распределение по кластерам."
   ]
  },
  {
   "cell_type": "markdown",
   "metadata": {},
   "source": [
    "## Задание 2"
   ]
  },
  {
   "cell_type": "code",
   "execution_count": 40,
   "metadata": {},
   "outputs": [
    {
     "data": {
      "text/html": [
       "<div>\n",
       "<style scoped>\n",
       "    .dataframe tbody tr th:only-of-type {\n",
       "        vertical-align: middle;\n",
       "    }\n",
       "\n",
       "    .dataframe tbody tr th {\n",
       "        vertical-align: top;\n",
       "    }\n",
       "\n",
       "    .dataframe thead th {\n",
       "        text-align: right;\n",
       "    }\n",
       "</style>\n",
       "<table border=\"1\" class=\"dataframe\">\n",
       "  <thead>\n",
       "    <tr style=\"text-align: right;\">\n",
       "      <th></th>\n",
       "      <th>Марка</th>\n",
       "      <th>Год</th>\n",
       "      <th>Состояние</th>\n",
       "      <th>Пробег</th>\n",
       "      <th>Объем</th>\n",
       "      <th>Топливо</th>\n",
       "      <th>Мощность</th>\n",
       "      <th>Кузов</th>\n",
       "      <th>Привод</th>\n",
       "      <th>КПП</th>\n",
       "      <th>Руль</th>\n",
       "      <th>Хозяев в ПТС</th>\n",
       "      <th>Цена</th>\n",
       "    </tr>\n",
       "  </thead>\n",
       "  <tbody>\n",
       "    <tr>\n",
       "      <th>0</th>\n",
       "      <td>Volkswagen</td>\n",
       "      <td>2013.0</td>\n",
       "      <td>БУ</td>\n",
       "      <td>42000.0</td>\n",
       "      <td>1200.0</td>\n",
       "      <td>бензин</td>\n",
       "      <td>105.0</td>\n",
       "      <td>хэтчбек</td>\n",
       "      <td>передний</td>\n",
       "      <td>автомат</td>\n",
       "      <td>левый</td>\n",
       "      <td>1 владелец</td>\n",
       "      <td>689196.0</td>\n",
       "    </tr>\n",
       "    <tr>\n",
       "      <th>1</th>\n",
       "      <td>Skoda</td>\n",
       "      <td>2012.0</td>\n",
       "      <td>БУ</td>\n",
       "      <td>62000.0</td>\n",
       "      <td>1800.0</td>\n",
       "      <td>бензин</td>\n",
       "      <td>152.0</td>\n",
       "      <td>кроссовер</td>\n",
       "      <td>полный</td>\n",
       "      <td>механика</td>\n",
       "      <td>левый</td>\n",
       "      <td>1 владелец</td>\n",
       "      <td>639196.0</td>\n",
       "    </tr>\n",
       "    <tr>\n",
       "      <th>2</th>\n",
       "      <td>Renault</td>\n",
       "      <td>2015.0</td>\n",
       "      <td>БУ</td>\n",
       "      <td>4700.0</td>\n",
       "      <td>1600.0</td>\n",
       "      <td>бензин</td>\n",
       "      <td>106.0</td>\n",
       "      <td>хэтчбек</td>\n",
       "      <td>передний</td>\n",
       "      <td>механика</td>\n",
       "      <td>левый</td>\n",
       "      <td>1 владелец</td>\n",
       "      <td>629196.0</td>\n",
       "    </tr>\n",
       "    <tr>\n",
       "      <th>3</th>\n",
       "      <td>Nissan</td>\n",
       "      <td>2012.0</td>\n",
       "      <td>БУ</td>\n",
       "      <td>70000.0</td>\n",
       "      <td>1600.0</td>\n",
       "      <td>бензин</td>\n",
       "      <td>110.0</td>\n",
       "      <td>хэтчбек</td>\n",
       "      <td>передний</td>\n",
       "      <td>автомат</td>\n",
       "      <td>левый</td>\n",
       "      <td>1 владелец</td>\n",
       "      <td>479196.0</td>\n",
       "    </tr>\n",
       "    <tr>\n",
       "      <th>4</th>\n",
       "      <td>УАЗ</td>\n",
       "      <td>2014.0</td>\n",
       "      <td>БУ</td>\n",
       "      <td>50000.0</td>\n",
       "      <td>2700.0</td>\n",
       "      <td>бензин</td>\n",
       "      <td>128.0</td>\n",
       "      <td>внедорожник</td>\n",
       "      <td>полный</td>\n",
       "      <td>механика</td>\n",
       "      <td>левый</td>\n",
       "      <td>1 владелец</td>\n",
       "      <td>599196.0</td>\n",
       "    </tr>\n",
       "  </tbody>\n",
       "</table>\n",
       "</div>"
      ],
      "text/plain": [
       "        Марка     Год Состояние   Пробег   Объем Топливо  Мощность  \\\n",
       "0  Volkswagen  2013.0        БУ  42000.0  1200.0  бензин     105.0   \n",
       "1       Skoda  2012.0        БУ  62000.0  1800.0  бензин     152.0   \n",
       "2     Renault  2015.0        БУ   4700.0  1600.0  бензин     106.0   \n",
       "3      Nissan  2012.0        БУ  70000.0  1600.0  бензин     110.0   \n",
       "4         УАЗ  2014.0        БУ  50000.0  2700.0  бензин     128.0   \n",
       "\n",
       "         Кузов    Привод       КПП   Руль Хозяев в ПТС      Цена  \n",
       "0      хэтчбек  передний   автомат  левый   1 владелец  689196.0  \n",
       "1    кроссовер    полный  механика  левый   1 владелец  639196.0  \n",
       "2      хэтчбек  передний  механика  левый   1 владелец  629196.0  \n",
       "3      хэтчбек  передний   автомат  левый   1 владелец  479196.0  \n",
       "4  внедорожник    полный  механика  левый   1 владелец  599196.0  "
      ]
     },
     "execution_count": 40,
     "metadata": {},
     "output_type": "execute_result"
    }
   ],
   "source": [
    "df = pd.read_csv('https://raw.githubusercontent.com/julia-komleva/ml-course-2021/main/data/2.csv', encoding='cp1251')\n",
    "df = df.drop(columns=['Модель', 'Цвет'])\n",
    "df.head()"
   ]
  },
  {
   "cell_type": "markdown",
   "metadata": {},
   "source": [
    "Статистика по атрибутам:"
   ]
  },
  {
   "cell_type": "code",
   "execution_count": 42,
   "metadata": {},
   "outputs": [
    {
     "name": "stdout",
     "output_type": "stream",
     "text": [
      "                Год         Пробег         Объем      Мощность          Цена\n",
      "count  35019.000000   35019.000000  35019.000000  35019.000000  3.501900e+04\n",
      "mean    2007.370056  120830.338559   1877.595020    128.989606  4.889877e+05\n",
      "std        5.332053   69805.918666    617.729308     52.277648  4.765761e+05\n",
      "min     1990.000000       5.000000    100.000000      1.000000  8.000000e+03\n",
      "25%     2004.000000   70000.000000   1500.000000     90.000000  1.900000e+05\n",
      "50%     2008.000000  110000.000000   1600.000000    116.000000  3.700000e+05\n",
      "75%     2012.000000  160000.000000   2000.000000    150.000000  6.200000e+05\n",
      "max     2017.000000  363000.000000   4600.000000    333.000000  6.900000e+06\n"
     ]
    }
   ],
   "source": [
    "print(df.describe())"
   ]
  },
  {
   "cell_type": "code",
   "execution_count": 64,
   "metadata": {},
   "outputs": [
    {
     "data": {
      "text/plain": [
       "array([[<AxesSubplot:title={'center':'Год'}>]], dtype=object)"
      ]
     },
     "execution_count": 64,
     "metadata": {},
     "output_type": "execute_result"
    },
    {
     "data": {
      "image/png": "[encoded data removed]",
      "text/plain": [
       "<Figure size 432x288 with 1 Axes>"
      ]
     },
     "metadata": {
      "needs_background": "light"
     },
     "output_type": "display_data"
    }
   ],
   "source": [
    "df.hist('Год')"
   ]
  },
  {
   "cell_type": "code",
   "execution_count": 66,
   "metadata": {},
   "outputs": [
    {
     "data": {
      "text/plain": [
       "array([[<AxesSubplot:title={'center':'Пробег'}>]], dtype=object)"
      ]
     },
     "execution_count": 66,
     "metadata": {},
     "output_type": "execute_result"
    },
    {
     "data": {
      "image/png": "[encoded data removed]",
      "text/plain": [
       "<Figure size 432x288 with 1 Axes>"
      ]
     },
     "metadata": {
      "needs_background": "light"
     },
     "output_type": "display_data"
    }
   ],
   "source": [
    "df.hist('Пробег')"
   ]
  },
  {
   "cell_type": "code",
   "execution_count": 67,
   "metadata": {},
   "outputs": [
    {
     "data": {
      "text/plain": [
       "array([[<AxesSubplot:title={'center':'Мощность'}>]], dtype=object)"
      ]
     },
     "execution_count": 67,
     "metadata": {},
     "output_type": "execute_result"
    },
    {
     "data": {
      "image/png": "[encoded data removed]",
      "text/plain": [
       "<Figure size 432x288 with 1 Axes>"
      ]
     },
     "metadata": {
      "needs_background": "light"
     },
     "output_type": "display_data"
    }
   ],
   "source": [
    "df.hist('Мощность')"
   ]
  },
  {
   "cell_type": "code",
   "execution_count": 69,
   "metadata": {},
   "outputs": [
    {
     "data": {
      "text/plain": [
       "array([[<AxesSubplot:title={'center':'Объем'}>]], dtype=object)"
      ]
     },
     "execution_count": 69,
     "metadata": {},
     "output_type": "execute_result"
    },
    {
     "data": {
      "image/png": "[encoded data removed]",
      "text/plain": [
       "<Figure size 432x288 with 1 Axes>"
      ]
     },
     "metadata": {
      "needs_background": "light"
     },
     "output_type": "display_data"
    }
   ],
   "source": [
    "df.hist('Объем')"
   ]
  },
  {
   "cell_type": "code",
   "execution_count": 70,
   "metadata": {},
   "outputs": [
    {
     "data": {
      "text/plain": [
       "array([[<AxesSubplot:title={'center':'Цена'}>]], dtype=object)"
      ]
     },
     "execution_count": 70,
     "metadata": {},
     "output_type": "execute_result"
    },
    {
     "data": {
      "image/png": "[encoded data removed]",
      "text/plain": [
       "<Figure size 432x288 with 1 Axes>"
      ]
     },
     "metadata": {
      "needs_background": "light"
     },
     "output_type": "display_data"
    }
   ],
   "source": [
    "df.hist('Цена')"
   ]
  },
  {
   "cell_type": "code",
   "execution_count": 98,
   "metadata": {},
   "outputs": [],
   "source": [
    "from sklearn.cluster import KMeans, SpectralClustering\n",
    "from sklearn.preprocessing import StandardScaler"
   ]
  },
  {
   "cell_type": "code",
   "execution_count": null,
   "metadata": {},
   "outputs": [],
   "source": []
  }
 ],
 "metadata": {
  "kernelspec": {
   "display_name": "Python 3 (ipykernel)",
   "language": "python",
   "name": "python3"
  },
  "language_info": {
   "codemirror_mode": {
    "name": "ipython",
    "version": 3
   },
   "file_extension": ".py",
   "mimetype": "text/x-python",
   "name": "python",
   "nbconvert_exporter": "python",
   "pygments_lexer": "ipython3",
   "version": "3.9.8"
  }
 },
 "nbformat": 4,
 "nbformat_minor": 4
}
